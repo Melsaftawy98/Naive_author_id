{
 "cells": [
  {
   "cell_type": "markdown",
   "id": "8fb1bc5c-b577-40b2-b4bb-071135293486",
   "metadata": {},
   "source": [
    "## Naive Bayes for Author ID Detection"
   ]
  },
  {
   "cell_type": "markdown",
   "id": "4f4afdfc-5dab-4d66-9b2b-a5cc6f7e49a2",
   "metadata": {},
   "source": [
    "### This is a Udacity mini-project from \"Intro to machine learning\""
   ]
  },
  {
   "cell_type": "code",
   "execution_count": 1,
   "id": "ad665e63-b1b1-42d2-b83c-d82c40db0761",
   "metadata": {},
   "outputs": [],
   "source": [
    "import sys\n",
    "import import_ipynb\n",
    "from time import time\n",
    "from email_preprocess import preprocess"
   ]
  },
  {
   "cell_type": "code",
   "execution_count": 3,
   "id": "c9c81c55-0726-467c-bdc5-e5c4ebb1b636",
   "metadata": {},
   "outputs": [
    {
     "name": "stdout",
     "output_type": "stream",
     "text": [
      "no. of Chris training emails: 7936\n",
      "no. of Sara training emails: 7884\n"
     ]
    }
   ],
   "source": [
    "features_train, features_test, labels_train, labels_test = preprocess()"
   ]
  },
  {
   "cell_type": "code",
   "execution_count": 7,
   "id": "d823f4a7-be47-4f25-b21f-2dd2c4d525a8",
   "metadata": {},
   "outputs": [],
   "source": [
    "from sklearn.naive_bayes import GaussianNB"
   ]
  },
  {
   "cell_type": "code",
   "execution_count": 9,
   "id": "f24ecf04-54cb-431c-8e67-d0a00b535398",
   "metadata": {},
   "outputs": [
    {
     "name": "stdout",
     "output_type": "stream",
     "text": [
      "training time: 1.437 s\n"
     ]
    }
   ],
   "source": [
    "t0 = time()\n",
    "clf = GaussianNB()\n",
    "clf.fit(features_train, labels_train)\n",
    "print (\"training time:\", round(time()-t0, 3), \"s\")"
   ]
  },
  {
   "cell_type": "code",
   "execution_count": 21,
   "id": "76b66231-c726-4ab1-b226-da87c44ce3a5",
   "metadata": {},
   "outputs": [
    {
     "name": "stdout",
     "output_type": "stream",
     "text": [
      "testing time: 0.254 s\n"
     ]
    }
   ],
   "source": [
    "t0 = time()\n",
    "clf.predict(features_test)\n",
    "print (\"testing time:\", round(time()-t0, 3), \"s\")"
   ]
  },
  {
   "cell_type": "code",
   "execution_count": 15,
   "id": "d8fa51aa-4d32-40aa-bd78-8cd20786e6b6",
   "metadata": {},
   "outputs": [
    {
     "name": "stdout",
     "output_type": "stream",
     "text": [
      "0.9732650739476678\n",
      "accuracy time: 0.313 s\n"
     ]
    }
   ],
   "source": [
    "t0 = time()\n",
    "print(clf.score(features_test, labels_test))\n",
    "print(\"accuracy time:\", round(time()-t0, 3), \"s\")"
   ]
  },
  {
   "cell_type": "code",
   "execution_count": null,
   "id": "40d6ec0a-6da0-421f-b564-299ec4e9ba1c",
   "metadata": {},
   "outputs": [],
   "source": []
  }
 ],
 "metadata": {
  "kernelspec": {
   "display_name": "Python 3 (ipykernel)",
   "language": "python",
   "name": "python3"
  },
  "language_info": {
   "codemirror_mode": {
    "name": "ipython",
    "version": 3
   },
   "file_extension": ".py",
   "mimetype": "text/x-python",
   "name": "python",
   "nbconvert_exporter": "python",
   "pygments_lexer": "ipython3",
   "version": "3.11.7"
  }
 },
 "nbformat": 4,
 "nbformat_minor": 5
}
